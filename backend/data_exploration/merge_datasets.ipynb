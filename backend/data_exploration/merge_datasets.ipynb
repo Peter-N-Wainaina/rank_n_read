{
 "cells": [
  {
   "cell_type": "code",
   "execution_count": null,
   "metadata": {},
   "outputs": [],
   "source": [
    "import pandas as pd\n",
    "from copy import deepcopy\n",
    "import json\n",
    "import random"
   ]
  },
  {
   "cell_type": "code",
   "execution_count": null,
   "metadata": {},
   "outputs": [],
   "source": [
    "# Read the datasets\n",
    "\n",
    "amazon_books = pd.read_csv('amazon_books_data.csv')\n",
    "#amazon_reviews = pd.read_csv('amazon_books_rating.csv')"
   ]
  },
  {
   "cell_type": "code",
   "execution_count": null,
   "metadata": {},
   "outputs": [],
   "source": [
    "amazon_books.columns"
   ]
  },
  {
   "cell_type": "code",
   "execution_count": null,
   "metadata": {},
   "outputs": [],
   "source": [
    "def drop_columns(df, columns_list):\n",
    "    return df.drop(columns=columns_list)"
   ]
  },
  {
   "cell_type": "code",
   "execution_count": null,
   "metadata": {},
   "outputs": [],
   "source": [
    "drop_columns(amazon_books,[\"ratingsCount\", \"infoLink\"])"
   ]
  },
  {
   "cell_type": "code",
   "execution_count": null,
   "metadata": {},
   "outputs": [],
   "source": [
    "def create_dict_from_df(df, group_by_column):\n",
    "    return df.groupby(group_by_column).apply(lambda x: x.to_dict(orient='records')).to_dict()\n"
   ]
  },
  {
   "cell_type": "code",
   "execution_count": null,
   "metadata": {},
   "outputs": [],
   "source": [
    "create_dict_from_df(amazon_books, \"Title\")"
   ]
  },
  {
   "cell_type": "code",
   "execution_count": null,
   "metadata": {},
   "outputs": [],
   "source": [
    "def remove_square_brackets(str):\n",
    "    open_bracs = str.find(\"[\")\n",
    "    close_bracs = str.find(\"]\")\n",
    "    return str[open_bracs + 2: close_bracs - 1]\n",
    "\n",
    "def convert_string_to_list(str_list):\n",
    "    if not isinstance(str_list, str) or str_list == \"\" :\n",
    "        return []\n",
    "    str_list = remove_square_brackets(str_list)\n",
    "    return str_list.split(\",\")\n",
    "\n",
    "def convert_authors_and_categs_to_list(dataset):\n",
    "    for _, records in dataset.items():\n",
    "        for record in records:\n",
    "            categs = convert_string_to_list(record[\"categories\"])\n",
    "            authors = convert_string_to_list(record[\"authors\"])\n",
    "            record[\"categories\"] = categs\n",
    "            record[\"authors\"] = authors\n",
    "    return dataset\n",
    "\n",
    "def rename_column(dict, old_name, new_name):\n",
    "    for _, entries in dict.items():\n",
    "        for entry in entries:\n",
    "            value = entry[old_name]\n",
    "            entry[new_name] = value\n",
    "            del entry[old_name]\n",
    "    return dict\n"
   ]
  },
  {
   "cell_type": "code",
   "execution_count": null,
   "metadata": {},
   "outputs": [],
   "source": [
    "def remove_non_useful_books(dict):\n",
    "    \"\"\"Removes a books if it is missing categories or description data\"\"\"\n",
    "    new_dict = {}\n",
    "    for title, books in dict.items():\n",
    "        new_books = []\n",
    "        for book in books:\n",
    "            desc = book[\"description\"]\n",
    "            if book[\"categories\"] != [] and not (isinstance(desc, float)):\n",
    "                 new_books.append(book)\n",
    "\n",
    "        if new_books:\n",
    "            new_dict[title] = new_books\n",
    "    return new_dict\n"
   ]
  },
  {
   "cell_type": "code",
   "execution_count": null,
   "metadata": {},
   "outputs": [],
   "source": [
    "def create_json(filename, dict): \n",
    "    json_str = json.dumps(dict, indent=4)\n",
    "    with open(filename, \"w\", encoding=\"utf-8\") as file:\n",
    "        file.write(json_str)"
   ]
  },
  {
   "cell_type": "code",
   "execution_count": null,
   "metadata": {},
   "outputs": [],
   "source": [
    "def clean_up_amazon_books(df):\n",
    "    df = drop_columns(df, [\"ratingsCount\", \"infoLink\"])\n",
    "    books_dict = create_dict_from_df(df, \"Title\")\n",
    "    books_dict = convert_authors_and_categs_to_list(books_dict)\n",
    "    books_dict = rename_column(books_dict, \"Title\", \"title\")\n",
    "    books_dict = remove_non_useful_books(books_dict)\n",
    "    return books_dict"
   ]
  },
  {
   "cell_type": "code",
   "execution_count": null,
   "metadata": {},
   "outputs": [],
   "source": [
    "books = clean_up_amazon_books(amazon_books)"
   ]
  },
  {
   "cell_type": "code",
   "execution_count": null,
   "metadata": {},
   "outputs": [],
   "source": [
    "num_books = 70000\n",
    "books_sample = dict(random.sample(list(books.items()), num_books))\n",
    "create_json(\"books.json\", books_sample)"
   ]
  },
  {
   "cell_type": "code",
   "execution_count": null,
   "metadata": {},
   "outputs": [],
   "source": [
    "num_books_with_all_cols = 0\n",
    "num_books_with_same_title = 0\n",
    "for _, book_list in books.items():\n",
    "    length = len(book_list)\n",
    "    num_books_with_all_cols += length\n",
    "    num_books_with_all_cols += 1 if length > 1 else 0\n",
    "num_books_with_all_cols, num_books_with_same_title\n"
   ]
  },
  {
   "cell_type": "code",
   "execution_count": null,
   "metadata": {},
   "outputs": [],
   "source": [
    "\n",
    "# NOTE:Any cell below this is for data exploration, and can be ignored\n"
   ]
  },
  {
   "cell_type": "code",
   "execution_count": null,
   "metadata": {},
   "outputs": [],
   "source": []
  },
  {
   "cell_type": "code",
   "execution_count": null,
   "metadata": {},
   "outputs": [],
   "source": [
    "amazon_reviews.columns"
   ]
  },
  {
   "cell_type": "code",
   "execution_count": null,
   "metadata": {},
   "outputs": [],
   "source": [
    "amazon_reviews = amazon_reviews.drop(columns=[\"Id\", \"User_id\", \"profileName\", \"review/helpfulness\",\"review/time\",\"review/summary\"])\n",
    "amazon_reviews.columns"
   ]
  },
  {
   "cell_type": "code",
   "execution_count": null,
   "metadata": {},
   "outputs": [],
   "source": [
    "amazon_books_dict = amazon_books.groupby('Title').apply(lambda x: x.to_dict(orient='records')).to_dict()"
   ]
  },
  {
   "cell_type": "code",
   "execution_count": null,
   "metadata": {},
   "outputs": [],
   "source": [
    "amazon_reviews_dict = amazon_reviews.groupby('Title').apply(lambda x: x.to_dict(orient='records')).to_dict()"
   ]
  },
  {
   "cell_type": "code",
   "execution_count": null,
   "metadata": {},
   "outputs": [],
   "source": [
    "count = 5\n",
    "print(\"\\n\")\n",
    "print(\"Sample Amazon Books:\")\n",
    "for title, entries in list(amazon_books_dict.items())[:count]:\n",
    "    print(f\"Title: {title}\")\n",
    "    print(entries)\n",
    "    print(\"\\n\")\n",
    "\n",
    "print(\"\\n\")\n",
    "print(\"Sample Amazon Reviews:\")\n",
    "for title, entries in list(amazon_reviews_dict.items())[:count]:\n",
    "    print(f\"Title: {title}\")\n",
    "    print(entries)\n",
    "    print(\"\\n\")"
   ]
  },
  {
   "cell_type": "code",
   "execution_count": null,
   "metadata": {},
   "outputs": [],
   "source": [
    "amazon_reviews_dict[\"Dr. Seuss: American Icon\"]"
   ]
  },
  {
   "cell_type": "code",
   "execution_count": null,
   "metadata": {},
   "outputs": [],
   "source": [
    "\n",
    "nan = float('nan')\n",
    "def clean_up_amazon_reviews_dict(reviews):\n",
    "    new_amazon_reviews_dict = {}\n",
    "    for book_title, entries in reviews.items():\n",
    "        title = book_title\n",
    "        price = 0\n",
    "        avg_rating = 0\n",
    "        reviews = []\n",
    "        for entry in entries:\n",
    "            p = entry[\"Price\"]\n",
    "            rat = entry[\"review/score\"]\n",
    "            rev = entry[\"review/text\"]\n",
    "\n",
    "            rat, rev\n",
    "            if p is not nan:\n",
    "                price = p\n",
    "            if rat is not nan:\n",
    "                avg_rating += rat \n",
    "            reviews.append(rev)\n",
    "\n",
    "        avg_rating = round(avg_rating / len(entries), 1)\n",
    "        if price == 0:\n",
    "            price = \"\"\n",
    "\n",
    "        if avg_rating == 0:\n",
    "            avg_rating = \"\"\n",
    "        \n",
    "        new_amazon_reviews_dict[title] = {\n",
    "            \"title\": title,\n",
    "            \"price\": price,\n",
    "            \"avg_rating\": avg_rating,\n",
    "            \"reviews\": reviews\n",
    "        }\n",
    "    return new_amazon_reviews_dict\n",
    "new_amazon_reviews_dict = clean_up_amazon_reviews_dict(deepcopy(amazon_reviews_dict))\n",
    "new_amazon_reviews_dict\n",
    "\n"
   ]
  },
  {
   "cell_type": "code",
   "execution_count": null,
   "metadata": {},
   "outputs": [],
   "source": [
    "new_amazon_reviews_dict[\"Dr. Seuss: American Icon\"]"
   ]
  },
  {
   "cell_type": "code",
   "execution_count": null,
   "metadata": {},
   "outputs": [],
   "source": [
    "print(amazon_books_dict[\"Death Dream\"][0][\"categories\"])\n",
    "print(amazon_books_dict[\"Dr. Seuss: American Icon\"][0][\"categories\"])"
   ]
  },
  {
   "cell_type": "code",
   "execution_count": null,
   "metadata": {},
   "outputs": [],
   "source": [
    "amazon_books_titles = set(amazon_books_dict.keys())\n",
    "print(f\"Number of amazon books: {len(amazon_books_titles)} \\n Number of books in both: {len(similar)}\")"
   ]
  },
  {
   "cell_type": "code",
   "execution_count": null,
   "metadata": {},
   "outputs": [],
   "source": [
    "complete_books_dataset = {}\n",
    "complete_reviews_dataset = {}\n",
    "\n",
    "for title, record in complete_dataset.items():\n",
    "    complete_reviews_dataset[title] = record[\"reviews\"]\n",
    "\n",
    "    new_record = deepcopy(record)\n",
    "    del new_record[\"reviews\"]\n",
    "    complete_books_dataset[title] = new_record\n"
   ]
  },
  {
   "cell_type": "code",
   "execution_count": null,
   "metadata": {},
   "outputs": [],
   "source": [
    "books_json = json.dumps(complete_books_dataset, indent=4)\n",
    "with open(\"books.json\", \"w\", encoding=\"utf-8\") as file:\n",
    "    file.write(books_json)\n",
    "\n",
    "# reviews_json = json.dumps(complete_reviews_dataset, indent=4)\n",
    "# with open(\"reviews.json\", \"w\", encoding=\"utf-8\") as file:\n",
    "#     file.write(reviews_json)"
   ]
  },
  {
   "cell_type": "code",
   "execution_count": null,
   "metadata": {},
   "outputs": [],
   "source": [
    "[       \"description\", \"authors\", \n",
    "        \"image\",\n",
    "        \"previewLink\",\n",
    "        \"publisher\",\n",
    "        \"publishedDate\",\n",
    "        \"categories\" ,\n",
    "        \"title\",\n",
    "        \"price\",\n",
    "        \"avg_rating\"]"
   ]
  }
 ],
 "metadata": {
  "kernelspec": {
   "display_name": "rank_n_read",
   "language": "python",
   "name": "python3"
  },
  "language_info": {
   "codemirror_mode": {
    "name": "ipython",
    "version": 3
   },
   "file_extension": ".py",
   "mimetype": "text/x-python",
   "name": "python",
   "nbconvert_exporter": "python",
   "pygments_lexer": "ipython3",
   "version": "3.10.16"
  }
 },
 "nbformat": 4,
 "nbformat_minor": 2
}
