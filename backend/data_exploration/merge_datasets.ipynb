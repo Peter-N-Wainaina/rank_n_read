{
 "cells": [
  {
   "cell_type": "code",
   "execution_count": null,
   "metadata": {},
   "outputs": [],
   "source": [
    "import pandas as pd\n",
    "from collections import defaultdict\n",
    "import ast\n",
    "from copy import deepcopy\n",
    "import json"
   ]
  },
  {
   "cell_type": "code",
   "execution_count": null,
   "metadata": {},
   "outputs": [],
   "source": [
    "# Read the datasets\n",
    "\n",
    "amazon_books = pd.read_csv('amazon_books_data.csv')\n",
    "amazon_reviews = pd.read_csv('amazon_books_rating.csv')\n",
    "goodreads_books = pd.read_csv('goodreads_books.csv')"
   ]
  },
  {
   "cell_type": "code",
   "execution_count": null,
   "metadata": {},
   "outputs": [],
   "source": [
    "amazon_books.columns"
   ]
  },
  {
   "cell_type": "code",
   "execution_count": null,
   "metadata": {},
   "outputs": [],
   "source": [
    "amazon_books = amazon_books.drop(columns=[\"ratingsCount\", \"infoLink\"])\n",
    "amazon_books.columns"
   ]
  },
  {
   "cell_type": "code",
   "execution_count": null,
   "metadata": {},
   "outputs": [],
   "source": [
    "amazon_reviews.columns"
   ]
  },
  {
   "cell_type": "code",
   "execution_count": null,
   "metadata": {},
   "outputs": [],
   "source": [
    "amazon_reviews = amazon_reviews.drop(columns=[\"Id\", \"User_id\", \"profileName\", \"review/helpfulness\",\"review/time\",\"review/summary\"])\n",
    "amazon_reviews.columns"
   ]
  },
  {
   "cell_type": "code",
   "execution_count": null,
   "metadata": {},
   "outputs": [],
   "source": [
    "goodreads_books.columns"
   ]
  },
  {
   "cell_type": "code",
   "execution_count": null,
   "metadata": {},
   "outputs": [],
   "source": [
    "goodreads_books = goodreads_books.drop(columns=[\"bookformat\", \"isbn\",\"isbn13\", \"reviews\",\"totalratings\"])\n",
    "goodreads_books.columns"
   ]
  },
  {
   "cell_type": "code",
   "execution_count": null,
   "metadata": {},
   "outputs": [],
   "source": [
    "amazon_books_dict = amazon_books.groupby('Title').apply(lambda x: x.to_dict(orient='records')).to_dict()"
   ]
  },
  {
   "cell_type": "code",
   "execution_count": null,
   "metadata": {},
   "outputs": [],
   "source": [
    "amazon_reviews_dict = amazon_reviews.groupby('Title').apply(lambda x: x.to_dict(orient='records')).to_dict()"
   ]
  },
  {
   "cell_type": "code",
   "execution_count": null,
   "metadata": {},
   "outputs": [],
   "source": [
    "goodreads_books_dict = goodreads_books.groupby('title').apply(lambda x: x.to_dict(orient='records')).to_dict()"
   ]
  },
  {
   "cell_type": "code",
   "execution_count": null,
   "metadata": {},
   "outputs": [],
   "source": [
    "count = 5\n",
    "print(\"\\n\")\n",
    "print(\"Sample Amazon Books:\")\n",
    "for title, entries in list(amazon_books_dict.items())[:count]:\n",
    "    print(f\"Title: {title}\")\n",
    "    print(entries)\n",
    "    print(\"\\n\")\n",
    "\n",
    "print(\"\\n\")\n",
    "print(\"Sample Amazon Reviews:\")\n",
    "for title, entries in list(amazon_reviews_dict.items())[:count]:\n",
    "    print(f\"Title: {title}\")\n",
    "    print(entries)\n",
    "    print(\"\\n\")\n",
    "\n",
    "print(\"\\n\")\n",
    "print(\"Sample Goodreads Books:\")\n",
    "for title, entries in list(goodreads_books_dict.items())[:count]:\n",
    "    print(f\"Title: {title}\")\n",
    "    print(entries)\n",
    "    print(\"\\n\")"
   ]
  },
  {
   "cell_type": "code",
   "execution_count": null,
   "metadata": {},
   "outputs": [],
   "source": [
    "amazon_reviews_dict[\"Dr. Seuss: American Icon\"]"
   ]
  },
  {
   "cell_type": "code",
   "execution_count": null,
   "metadata": {},
   "outputs": [],
   "source": [
    "\n",
    "nan = float('nan')\n",
    "def clean_up_amazon_reviews_dict(reviews):\n",
    "    new_amazon_reviews_dict = {}\n",
    "    for book_title, entries in reviews.items():\n",
    "        title = book_title\n",
    "        price = 0\n",
    "        avg_rating = 0\n",
    "        reviews = []\n",
    "        for entry in entries:\n",
    "            p = entry[\"Price\"]\n",
    "            rat = entry[\"review/score\"]\n",
    "            rev = entry[\"review/text\"]\n",
    "\n",
    "            rat, rev\n",
    "            if p is not nan:\n",
    "                price = p\n",
    "            if rat is not nan:\n",
    "                avg_rating += rat \n",
    "            reviews.append(rev)\n",
    "\n",
    "        avg_rating = round(avg_rating / len(entries), 1)\n",
    "        if price == 0:\n",
    "            price = \"\"\n",
    "\n",
    "        if avg_rating == 0:\n",
    "            avg_rating = \"\"\n",
    "        \n",
    "        new_amazon_reviews_dict[title] = {\n",
    "            \"title\": title,\n",
    "            \"price\": price,\n",
    "            \"avg_rating\": avg_rating,\n",
    "            \"reviews\": reviews\n",
    "        }\n",
    "    return new_amazon_reviews_dict\n",
    "new_amazon_reviews_dict = clean_up_amazon_reviews_dict(deepcopy(amazon_reviews_dict))\n",
    "new_amazon_reviews_dict\n",
    "\n"
   ]
  },
  {
   "cell_type": "code",
   "execution_count": null,
   "metadata": {},
   "outputs": [],
   "source": [
    "new_amazon_reviews_dict[\"Dr. Seuss: American Icon\"]"
   ]
  },
  {
   "cell_type": "code",
   "execution_count": null,
   "metadata": {},
   "outputs": [],
   "source": [
    "print(amazon_books_dict[\"Death Dream\"][0][\"categories\"])\n",
    "print(amazon_books_dict[\"Dr. Seuss: American Icon\"][0][\"categories\"])"
   ]
  },
  {
   "cell_type": "code",
   "execution_count": null,
   "metadata": {},
   "outputs": [],
   "source": []
  },
  {
   "cell_type": "code",
   "execution_count": null,
   "metadata": {},
   "outputs": [],
   "source": [
    "# Index(['Title', 'description', 'authors', 'image', 'previewLink', 'publisher',\n",
    "#        'publishedDate', 'categories'],\n",
    "#       dtype='object')\n",
    "def clean_up_categories(categories_str):\n",
    "    if not categories_str:\n",
    "        return []\n",
    "    \n",
    "    open_bracket = categories_str.index(\"[\")\n",
    "    close_bracket = categories_str.index(\"]\")\n",
    "    categories_str = categories_str[open_bracket + 1: close_bracket]\n",
    "\n",
    "    ampersand = categories_str.index()\n",
    "\n",
    "\n",
    "def clean_up_amazon_books_dict(books):\n",
    "    new_amazon_books_dict = {}\n",
    "    for title, entry in books.items():\n",
    "        entry = entry[0]\n",
    "\n",
    "        entry[\"title\"] = title\n",
    "        del entry[\"Title\"]\n",
    "\n",
    "        # categs_list = ast.literal_eval(entry[\"categories\"])\n",
    "        # entry[\"categories\"] = categs_list\n",
    "        \n",
    "        new_amazon_books_dict[title] = entry\n",
    "    return new_amazon_books_dict\n",
    "new_amazon_books_dict = clean_up_amazon_books_dict(deepcopy(amazon_books_dict))"
   ]
  },
  {
   "cell_type": "code",
   "execution_count": null,
   "metadata": {},
   "outputs": [],
   "source": [
    "new_amazon_books_dict[\"Dr. Seuss: American Icon\"]"
   ]
  },
  {
   "cell_type": "code",
   "execution_count": null,
   "metadata": {},
   "outputs": [],
   "source": [
    "amazon_books_titles = set(amazon_books_dict.keys())\n",
    "goodreads_books_titles = set(goodreads_books_dict.keys())\n",
    "similar = amazon_books_titles.intersection(goodreads_books_titles)\n",
    "print(f\"Number of amazon books: {len(amazon_books_titles)}\\n Number of goodreads books: {len(goodreads_books_titles)} \\n Number of books in both: {len(similar)}\")"
   ]
  },
  {
   "cell_type": "code",
   "execution_count": null,
   "metadata": {},
   "outputs": [],
   "source": [
    "titles_from_books = set(new_amazon_books_dict.keys())\n",
    "titles_from_reviews = set(new_amazon_reviews_dict.keys())\n",
    "similar = titles_from_reviews.intersection(titles_from_books)\n",
    "print(f\"Number of amazon books titles: {len(titles_from_books)}\\n Number of amazon reviews titles : {len(titles_from_reviews)} \\n Number of books in both: {len(similar)}\")"
   ]
  },
  {
   "cell_type": "code",
   "execution_count": null,
   "metadata": {},
   "outputs": [],
   "source": [
    "complete_dataset = {}\n",
    "for title in new_amazon_books_dict.keys():\n",
    "    book_data = new_amazon_books_dict[title]\n",
    "    review_data = new_amazon_reviews_dict[title]\n",
    "    complete_dataset[title] = (book_data | review_data)"
   ]
  },
  {
   "cell_type": "code",
   "execution_count": null,
   "metadata": {},
   "outputs": [],
   "source": [
    "complete_dataset[\"Dr. Seuss: American Icon\"]"
   ]
  },
  {
   "cell_type": "code",
   "execution_count": null,
   "metadata": {},
   "outputs": [],
   "source": [
    "def remove_square_brackets(str):\n",
    "    open_bracs = str.find(\"[\")\n",
    "    close_bracs = str.find(\"]\")\n",
    "    return str[open_bracs + 2: close_bracs - 1]\n",
    "\n",
    "def convert_string_to_list(str_list):\n",
    "    if not isinstance(str_list, str) or str_list == \"\" :\n",
    "        return []\n",
    "    str_list = remove_square_brackets(str_list)\n",
    "    return str_list.split(\",\")\n",
    "\n",
    "def convert_authors_and_categs_to_list(dataset):\n",
    "    for _, record in dataset.items():\n",
    "        categs = convert_string_to_list(record[\"categories\"])\n",
    "        authors = convert_string_to_list(record[\"authors\"])\n",
    "        record[\"categories\"] = categs\n",
    "        record[\"authors\"] = authors\n",
    "    return dataset\n",
    "\n",
    "complete_dataset = convert_authors_and_categs_to_list(deepcopy(complete_dataset))"
   ]
  },
  {
   "cell_type": "code",
   "execution_count": null,
   "metadata": {},
   "outputs": [],
   "source": [
    "(complete_dataset[\"Eyewitness Travel Guide to Europe\"])\n"
   ]
  },
  {
   "cell_type": "code",
   "execution_count": null,
   "metadata": {},
   "outputs": [],
   "source": [
    "dataset_json = json.dumps(complete_dataset, indent=4)"
   ]
  },
  {
   "cell_type": "code",
   "execution_count": null,
   "metadata": {},
   "outputs": [],
   "source": [
    "#print(dataset_json)"
   ]
  },
  {
   "cell_type": "code",
   "execution_count": null,
   "metadata": {},
   "outputs": [],
   "source": [
    "# with open(\"dataset.json\", \"w\", encoding=\"utf-8\") as file:\n",
    "#     file.write(dataset_json)"
   ]
  },
  {
   "cell_type": "code",
   "execution_count": null,
   "metadata": {},
   "outputs": [],
   "source": [
    "list(complete_dataset.values())[0]"
   ]
  },
  {
   "cell_type": "code",
   "execution_count": null,
   "metadata": {},
   "outputs": [],
   "source": [
    "complete_books_dataset = {}\n",
    "complete_reviews_dataset = {}\n",
    "\n",
    "for title, record in complete_dataset.items():\n",
    "    complete_reviews_dataset[title] = record[\"reviews\"]\n",
    "\n",
    "    new_record = deepcopy(record)\n",
    "    del new_record[\"reviews\"]\n",
    "    complete_books_dataset[title] = new_record\n"
   ]
  },
  {
   "cell_type": "code",
   "execution_count": null,
   "metadata": {},
   "outputs": [],
   "source": [
    "books_json = json.dumps(complete_books_dataset, indent=4)\n",
    "with open(\"books.json\", \"w\", encoding=\"utf-8\") as file:\n",
    "    file.write(books_json)\n",
    "\n",
    "# reviews_json = json.dumps(complete_reviews_dataset, indent=4)\n",
    "# with open(\"reviews.json\", \"w\", encoding=\"utf-8\") as file:\n",
    "#     file.write(reviews_json)"
   ]
  },
  {
   "cell_type": "code",
   "execution_count": null,
   "metadata": {},
   "outputs": [],
   "source": [
    "[       \"description\", \"authors\", \n",
    "        \"image\",\n",
    "        \"previewLink\",\n",
    "        \"publisher\",\n",
    "        \"publishedDate\",\n",
    "        \"categories\" ,\n",
    "        \"title\",\n",
    "        \"price\",\n",
    "        \"avg_rating\"]"
   ]
  }
 ],
 "metadata": {
  "kernelspec": {
   "display_name": "base",
   "language": "python",
   "name": "python3"
  },
  "language_info": {
   "codemirror_mode": {
    "name": "ipython",
    "version": 3
   },
   "file_extension": ".py",
   "mimetype": "text/x-python",
   "name": "python",
   "nbconvert_exporter": "python",
   "pygments_lexer": "ipython3",
   "version": "3.12.7"
  }
 },
 "nbformat": 4,
 "nbformat_minor": 2
}
